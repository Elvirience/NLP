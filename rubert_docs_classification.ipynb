{
 "cells": [
  {
   "attachments": {},
   "cell_type": "markdown",
   "metadata": {},
   "source": [
    "#### Сбор и обработка данных"
   ]
  },
  {
   "cell_type": "code",
   "execution_count": 1,
   "metadata": {},
   "outputs": [
    {
     "data": {
      "text/html": [
       "<div>\n",
       "<style scoped>\n",
       "    .dataframe tbody tr th:only-of-type {\n",
       "        vertical-align: middle;\n",
       "    }\n",
       "\n",
       "    .dataframe tbody tr th {\n",
       "        vertical-align: top;\n",
       "    }\n",
       "\n",
       "    .dataframe thead th {\n",
       "        text-align: right;\n",
       "    }\n",
       "</style>\n",
       "<table border=\"1\" class=\"dataframe\">\n",
       "  <thead>\n",
       "    <tr style=\"text-align: right;\">\n",
       "      <th></th>\n",
       "      <th>img_names</th>\n",
       "      <th>labels</th>\n",
       "      <th>text</th>\n",
       "    </tr>\n",
       "  </thead>\n",
       "  <tbody>\n",
       "    <tr>\n",
       "      <th>0</th>\n",
       "      <td>10352078_1_page002.jpg</td>\n",
       "      <td>0</td>\n",
       "      <td></td>\n",
       "    </tr>\n",
       "    <tr>\n",
       "      <th>1</th>\n",
       "      <td>10352079_1_page002.jpg</td>\n",
       "      <td>0</td>\n",
       "      <td></td>\n",
       "    </tr>\n",
       "    <tr>\n",
       "      <th>2</th>\n",
       "      <td>10357081_1_page002.jpg</td>\n",
       "      <td>0</td>\n",
       "      <td></td>\n",
       "    </tr>\n",
       "    <tr>\n",
       "      <th>3</th>\n",
       "      <td>10370421_1_page002.jpg</td>\n",
       "      <td>0</td>\n",
       "      <td></td>\n",
       "    </tr>\n",
       "    <tr>\n",
       "      <th>4</th>\n",
       "      <td>10390659_1_page002.jpg</td>\n",
       "      <td>0</td>\n",
       "      <td></td>\n",
       "    </tr>\n",
       "    <tr>\n",
       "      <th>...</th>\n",
       "      <td>...</td>\n",
       "      <td>...</td>\n",
       "      <td>...</td>\n",
       "    </tr>\n",
       "    <tr>\n",
       "      <th>1361</th>\n",
       "      <td>11423772_1_page000.jpg</td>\n",
       "      <td>3</td>\n",
       "      <td></td>\n",
       "    </tr>\n",
       "    <tr>\n",
       "      <th>1362</th>\n",
       "      <td>11425202_1_page000.jpg</td>\n",
       "      <td>3</td>\n",
       "      <td></td>\n",
       "    </tr>\n",
       "    <tr>\n",
       "      <th>1363</th>\n",
       "      <td>11427853_2_page000.jpg</td>\n",
       "      <td>3</td>\n",
       "      <td></td>\n",
       "    </tr>\n",
       "    <tr>\n",
       "      <th>1364</th>\n",
       "      <td>11441529_2_page000.jpg</td>\n",
       "      <td>3</td>\n",
       "      <td></td>\n",
       "    </tr>\n",
       "    <tr>\n",
       "      <th>1365</th>\n",
       "      <td>11453128_1_page000.jpg</td>\n",
       "      <td>3</td>\n",
       "      <td></td>\n",
       "    </tr>\n",
       "  </tbody>\n",
       "</table>\n",
       "<p>1366 rows × 3 columns</p>\n",
       "</div>"
      ],
      "text/plain": [
       "                   img_names  labels text\n",
       "0     10352078_1_page002.jpg       0     \n",
       "1     10352079_1_page002.jpg       0     \n",
       "2     10357081_1_page002.jpg       0     \n",
       "3     10370421_1_page002.jpg       0     \n",
       "4     10390659_1_page002.jpg       0     \n",
       "...                      ...     ...  ...\n",
       "1361  11423772_1_page000.jpg       3     \n",
       "1362  11425202_1_page000.jpg       3     \n",
       "1363  11427853_2_page000.jpg       3     \n",
       "1364  11441529_2_page000.jpg       3     \n",
       "1365  11453128_1_page000.jpg       3     \n",
       "\n",
       "[1366 rows x 3 columns]"
      ]
     },
     "execution_count": 1,
     "metadata": {},
     "output_type": "execute_result"
    }
   ],
   "source": [
    "# Создание датафрейма из названий файлов фотографий документов с указанием класса документа\n",
    "\n",
    "import os\n",
    "import pandas as pd\n",
    "\n",
    "path = 'data/'\n",
    "label = os.listdir(path)\n",
    "\n",
    "df_list = []\n",
    "\n",
    "for i in range(len(label)):\n",
    "    img_names = os.listdir(path + label[i])\n",
    "    df_list.append(pd.DataFrame({'img_names':img_names, 'labels':i}))\n",
    "\n",
    "doc_text_df = pd.concat(df_list, axis=0)\n",
    "doc_text_df['text'] = ''\n",
    "doc_text_df.reset_index(drop=True, inplace=True)\n",
    "doc_text_df"
   ]
  },
  {
   "cell_type": "code",
   "execution_count": 2,
   "metadata": {},
   "outputs": [
    {
     "data": {
      "text/html": [
       "<div>\n",
       "<style scoped>\n",
       "    .dataframe tbody tr th:only-of-type {\n",
       "        vertical-align: middle;\n",
       "    }\n",
       "\n",
       "    .dataframe tbody tr th {\n",
       "        vertical-align: top;\n",
       "    }\n",
       "\n",
       "    .dataframe thead th {\n",
       "        text-align: right;\n",
       "    }\n",
       "</style>\n",
       "<table border=\"1\" class=\"dataframe\">\n",
       "  <thead>\n",
       "    <tr style=\"text-align: right;\">\n",
       "      <th></th>\n",
       "      <th>img_names</th>\n",
       "      <th>labels</th>\n",
       "      <th>text</th>\n",
       "    </tr>\n",
       "  </thead>\n",
       "  <tbody>\n",
       "    <tr>\n",
       "      <th>0</th>\n",
       "      <td>10352078_1_page002.jpg</td>\n",
       "      <td>0</td>\n",
       "      <td>Акт Ng 9130 от 16 декабря 2021 Исполнитель Акц...</td>\n",
       "    </tr>\n",
       "    <tr>\n",
       "      <th>1</th>\n",
       "      <td>10352079_1_page002.jpg</td>\n",
       "      <td>0</td>\n",
       "      <td>Акт Ng 9135 от 16 декабря 2021 Исполнитель Акц...</td>\n",
       "    </tr>\n",
       "    <tr>\n",
       "      <th>2</th>\n",
       "      <td>10357081_1_page002.jpg</td>\n",
       "      <td>0</td>\n",
       "      <td>Акт Ng 9129 от 16 декабря 2021 Исполнитель Акц...</td>\n",
       "    </tr>\n",
       "    <tr>\n",
       "      <th>3</th>\n",
       "      <td>10370421_1_page002.jpg</td>\n",
       "      <td>0</td>\n",
       "      <td>Акт Ng 9129 от 16 декабря 2021 Исполнитель Акц...</td>\n",
       "    </tr>\n",
       "    <tr>\n",
       "      <th>4</th>\n",
       "      <td>10390659_1_page002.jpg</td>\n",
       "      <td>0</td>\n",
       "      <td>Акт Ng 9339 от 27 декабря 2021 Исполнитель Акц...</td>\n",
       "    </tr>\n",
       "    <tr>\n",
       "      <th>...</th>\n",
       "      <td>...</td>\n",
       "      <td>...</td>\n",
       "      <td>...</td>\n",
       "    </tr>\n",
       "    <tr>\n",
       "      <th>1361</th>\n",
       "      <td>11423772_1_page000.jpg</td>\n",
       "      <td>3</td>\n",
       "      <td>Универсальный Приложение Ng передаточный к пос...</td>\n",
       "    </tr>\n",
       "    <tr>\n",
       "      <th>1362</th>\n",
       "      <td>11425202_1_page000.jpg</td>\n",
       "      <td>3</td>\n",
       "      <td>Универсальный Приложение Ng передаточный к пос...</td>\n",
       "    </tr>\n",
       "    <tr>\n",
       "      <th>1363</th>\n",
       "      <td>11427853_2_page000.jpg</td>\n",
       "      <td>3</td>\n",
       "      <td>Универсальный Приложение Ng передаточный к пос...</td>\n",
       "    </tr>\n",
       "    <tr>\n",
       "      <th>1364</th>\n",
       "      <td>11441529_2_page000.jpg</td>\n",
       "      <td>3</td>\n",
       "      <td>Универсальный Приложение Ng передаточный к пос...</td>\n",
       "    </tr>\n",
       "    <tr>\n",
       "      <th>1365</th>\n",
       "      <td>11453128_1_page000.jpg</td>\n",
       "      <td>3</td>\n",
       "      <td>Универсальный Приложение Ng передаточный к пос...</td>\n",
       "    </tr>\n",
       "  </tbody>\n",
       "</table>\n",
       "<p>1365 rows × 3 columns</p>\n",
       "</div>"
      ],
      "text/plain": [
       "                   img_names  labels  \\\n",
       "0     10352078_1_page002.jpg       0   \n",
       "1     10352079_1_page002.jpg       0   \n",
       "2     10357081_1_page002.jpg       0   \n",
       "3     10370421_1_page002.jpg       0   \n",
       "4     10390659_1_page002.jpg       0   \n",
       "...                      ...     ...   \n",
       "1361  11423772_1_page000.jpg       3   \n",
       "1362  11425202_1_page000.jpg       3   \n",
       "1363  11427853_2_page000.jpg       3   \n",
       "1364  11441529_2_page000.jpg       3   \n",
       "1365  11453128_1_page000.jpg       3   \n",
       "\n",
       "                                                   text  \n",
       "0     Акт Ng 9130 от 16 декабря 2021 Исполнитель Акц...  \n",
       "1     Акт Ng 9135 от 16 декабря 2021 Исполнитель Акц...  \n",
       "2     Акт Ng 9129 от 16 декабря 2021 Исполнитель Акц...  \n",
       "3     Акт Ng 9129 от 16 декабря 2021 Исполнитель Акц...  \n",
       "4     Акт Ng 9339 от 27 декабря 2021 Исполнитель Акц...  \n",
       "...                                                 ...  \n",
       "1361  Универсальный Приложение Ng передаточный к пос...  \n",
       "1362  Универсальный Приложение Ng передаточный к пос...  \n",
       "1363  Универсальный Приложение Ng передаточный к пос...  \n",
       "1364  Универсальный Приложение Ng передаточный к пос...  \n",
       "1365  Универсальный Приложение Ng передаточный к пос...  \n",
       "\n",
       "[1365 rows x 3 columns]"
      ]
     },
     "execution_count": 2,
     "metadata": {},
     "output_type": "execute_result"
    }
   ],
   "source": [
    "# заполнение столбца \"text\" текстовым содержанием документов\n",
    "\n",
    "import json\n",
    "\n",
    "# документы хранятся в json-файле в виде: имя файла фотографии: данные: {список слов текста документа}\n",
    "with open('original_merged_data.json') as f:\n",
    "    data_dict = json.load(f)\n",
    "data_dict\n",
    "\n",
    "for key in data_dict:\n",
    "    text = ' '.join(data_dict[key]['data'])\n",
    "    doc_text_df.loc[doc_text_df['img_names'] == key, ['text']] = text\n",
    "doc_text_df = doc_text_df.loc[doc_text_df['text'] != '']\n",
    "doc_text_df"
   ]
  },
  {
   "cell_type": "code",
   "execution_count": 3,
   "metadata": {},
   "outputs": [
    {
     "name": "stderr",
     "output_type": "stream",
     "text": [
      "C:\\Users\\21223242\\AppData\\Local\\Temp\\ipykernel_8072\\4208167482.py:3: SettingWithCopyWarning: \n",
      "A value is trying to be set on a copy of a slice from a DataFrame\n",
      "\n",
      "See the caveats in the documentation: https://pandas.pydata.org/pandas-docs/stable/user_guide/indexing.html#returning-a-view-versus-a-copy\n",
      "  doc_text_df.drop(columns=doc_text_df.columns[0], axis=1, inplace=True)\n"
     ]
    },
    {
     "data": {
      "text/html": [
       "<div>\n",
       "<style scoped>\n",
       "    .dataframe tbody tr th:only-of-type {\n",
       "        vertical-align: middle;\n",
       "    }\n",
       "\n",
       "    .dataframe tbody tr th {\n",
       "        vertical-align: top;\n",
       "    }\n",
       "\n",
       "    .dataframe thead th {\n",
       "        text-align: right;\n",
       "    }\n",
       "</style>\n",
       "<table border=\"1\" class=\"dataframe\">\n",
       "  <thead>\n",
       "    <tr style=\"text-align: right;\">\n",
       "      <th></th>\n",
       "      <th>text</th>\n",
       "      <th>labels</th>\n",
       "    </tr>\n",
       "  </thead>\n",
       "  <tbody>\n",
       "    <tr>\n",
       "      <th>0</th>\n",
       "      <td>Акт Ng 9130 от 16 декабря 2021 Исполнитель Акц...</td>\n",
       "      <td>0</td>\n",
       "    </tr>\n",
       "    <tr>\n",
       "      <th>1</th>\n",
       "      <td>Акт Ng 9135 от 16 декабря 2021 Исполнитель Акц...</td>\n",
       "      <td>0</td>\n",
       "    </tr>\n",
       "    <tr>\n",
       "      <th>2</th>\n",
       "      <td>Акт Ng 9129 от 16 декабря 2021 Исполнитель Акц...</td>\n",
       "      <td>0</td>\n",
       "    </tr>\n",
       "    <tr>\n",
       "      <th>3</th>\n",
       "      <td>Акт Ng 9129 от 16 декабря 2021 Исполнитель Акц...</td>\n",
       "      <td>0</td>\n",
       "    </tr>\n",
       "    <tr>\n",
       "      <th>4</th>\n",
       "      <td>Акт Ng 9339 от 27 декабря 2021 Исполнитель Акц...</td>\n",
       "      <td>0</td>\n",
       "    </tr>\n",
       "    <tr>\n",
       "      <th>...</th>\n",
       "      <td>...</td>\n",
       "      <td>...</td>\n",
       "    </tr>\n",
       "    <tr>\n",
       "      <th>1361</th>\n",
       "      <td>Универсальный Приложение Ng передаточный к пос...</td>\n",
       "      <td>3</td>\n",
       "    </tr>\n",
       "    <tr>\n",
       "      <th>1362</th>\n",
       "      <td>Универсальный Приложение Ng передаточный к пос...</td>\n",
       "      <td>3</td>\n",
       "    </tr>\n",
       "    <tr>\n",
       "      <th>1363</th>\n",
       "      <td>Универсальный Приложение Ng передаточный к пос...</td>\n",
       "      <td>3</td>\n",
       "    </tr>\n",
       "    <tr>\n",
       "      <th>1364</th>\n",
       "      <td>Универсальный Приложение Ng передаточный к пос...</td>\n",
       "      <td>3</td>\n",
       "    </tr>\n",
       "    <tr>\n",
       "      <th>1365</th>\n",
       "      <td>Универсальный Приложение Ng передаточный к пос...</td>\n",
       "      <td>3</td>\n",
       "    </tr>\n",
       "  </tbody>\n",
       "</table>\n",
       "<p>1365 rows × 2 columns</p>\n",
       "</div>"
      ],
      "text/plain": [
       "                                                   text  labels\n",
       "0     Акт Ng 9130 от 16 декабря 2021 Исполнитель Акц...       0\n",
       "1     Акт Ng 9135 от 16 декабря 2021 Исполнитель Акц...       0\n",
       "2     Акт Ng 9129 от 16 декабря 2021 Исполнитель Акц...       0\n",
       "3     Акт Ng 9129 от 16 декабря 2021 Исполнитель Акц...       0\n",
       "4     Акт Ng 9339 от 27 декабря 2021 Исполнитель Акц...       0\n",
       "...                                                 ...     ...\n",
       "1361  Универсальный Приложение Ng передаточный к пос...       3\n",
       "1362  Универсальный Приложение Ng передаточный к пос...       3\n",
       "1363  Универсальный Приложение Ng передаточный к пос...       3\n",
       "1364  Универсальный Приложение Ng передаточный к пос...       3\n",
       "1365  Универсальный Приложение Ng передаточный к пос...       3\n",
       "\n",
       "[1365 rows x 2 columns]"
      ]
     },
     "execution_count": 3,
     "metadata": {},
     "output_type": "execute_result"
    }
   ],
   "source": [
    "# столбец с названием файла фотографии документа теперь не нужен\n",
    "\n",
    "doc_text_df.drop(columns=doc_text_df.columns[0], axis=1, inplace=True)\n",
    "doc_text_df = doc_text_df.iloc[:, [1, 0]]\n",
    "doc_text_df"
   ]
  },
  {
   "attachments": {},
   "cell_type": "markdown",
   "metadata": {},
   "source": [
    "#### Токенизация"
   ]
  },
  {
   "cell_type": "code",
   "execution_count": 4,
   "metadata": {},
   "outputs": [
    {
     "name": "stdout",
     "output_type": "stream",
     "text": [
      " Максимальная длина:\t 3675\n",
      " в среднем:\t 1719\n",
      " медиана:\t 1915\n",
      " 75 процентиль:\t 2112\n"
     ]
    },
    {
     "data": {
      "image/png": "[encoded data removed]",
      "text/plain": [
       "<Figure size 640x480 with 1 Axes>"
      ]
     },
     "metadata": {},
     "output_type": "display_data"
    }
   ],
   "source": [
    "# Поиск максимальной длины текста\n",
    "\n",
    "import numpy as np\n",
    "import seaborn as sns\n",
    "\n",
    "seq_of_lens = [len(i) for i in doc_text_df['text']]\n",
    "max_seq_len = max(seq_of_lens)\n",
    "\n",
    "mean_len = int(np.mean(seq_of_lens))\n",
    "median_len = int(np.median(seq_of_lens))\n",
    "third_quartile = int(np.percentile(seq_of_lens, 75))\n",
    "\n",
    "sns.boxplot(seq_of_lens)\n",
    "print(f' Максимальная длина:\\t {max_seq_len}\\n в среднем:\\t {mean_len}\\n медиана:\\t {median_len}\\n 75 процентиль:\\t {third_quartile}')"
   ]
  },
  {
   "cell_type": "code",
   "execution_count": 5,
   "metadata": {},
   "outputs": [],
   "source": [
    "# создание тренировочной и тестовой выборки\n",
    "\n",
    "from sklearn.model_selection import train_test_split\n",
    "\n",
    "docs_train, docs_valid = train_test_split(doc_text_df, test_size=0.2, random_state=1)"
   ]
  },
  {
   "cell_type": "code",
   "execution_count": 6,
   "metadata": {},
   "outputs": [
    {
     "name": "stderr",
     "output_type": "stream",
     "text": [
      "C:\\Users\\21223242\\AppData\\Roaming\\Python\\Python310\\site-packages\\tqdm\\auto.py:21: TqdmWarning: IProgress not found. Please update jupyter and ipywidgets. See https://ipywidgets.readthedocs.io/en/stable/user_install.html\n",
      "  from .autonotebook import tqdm as notebook_tqdm\n",
      "Some weights of BertForSequenceClassification were not initialized from the model checkpoint at rubert-tiny2 and are newly initialized: ['classifier.bias', 'classifier.weight']\n",
      "You should probably TRAIN this model on a down-stream task to be able to use it for predictions and inference.\n"
     ]
    }
   ],
   "source": [
    "from transformers import BertTokenizer\n",
    "from transformers import BertForSequenceClassification\n",
    "\n",
    "\n",
    "checkpoint = 'rubert-tiny2'\n",
    "model = BertForSequenceClassification.from_pretrained(checkpoint, num_labels=4)\n",
    "tokenizer = BertTokenizer.from_pretrained(checkpoint)\n",
    "\n",
    "labels_list = ['act', 'schet', 'sf', 'upd']\n",
    "model.config.id2label = dict(enumerate(labels_list))\n",
    "model.config.label2id = {v: k for k, v in model.config.id2label.items()}"
   ]
  },
  {
   "cell_type": "code",
   "execution_count": 7,
   "metadata": {},
   "outputs": [
    {
     "name": "stderr",
     "output_type": "stream",
     "text": [
      "Map: 100%|██████████| 1092/1092 [00:04<00:00, 242.99 examples/s]\n",
      "Map: 100%|██████████| 273/273 [00:01<00:00, 247.18 examples/s]\n"
     ]
    },
    {
     "data": {
      "text/plain": [
       "DatasetDict({\n",
       "    train: Dataset({\n",
       "        features: ['text', 'labels', 'input_ids', 'token_type_ids', 'attention_mask'],\n",
       "        num_rows: 1092\n",
       "    })\n",
       "    valid: Dataset({\n",
       "        features: ['text', 'labels', 'input_ids', 'token_type_ids', 'attention_mask'],\n",
       "        num_rows: 273\n",
       "    })\n",
       "})"
      ]
     },
     "execution_count": 7,
     "metadata": {},
     "output_type": "execute_result"
    }
   ],
   "source": [
    "# Токенизация\n",
    "\n",
    "from datasets import Dataset, DatasetDict, load_metric\n",
    "\n",
    "docs_datasets = DatasetDict({\n",
    "    'train': Dataset.from_pandas(docs_train, preserve_index=False),\n",
    "    'valid': Dataset.from_pandas(docs_valid, preserve_index=False)\n",
    "})\n",
    "\n",
    "\n",
    "def tokenize_function(example):\n",
    "    return tokenizer(example['text'], max_length=512, padding=True, truncation=True)\n",
    "\n",
    "tokenized_datasets = docs_datasets.map(tokenize_function, batched=True)\n",
    "tokenized_datasets"
   ]
  },
  {
   "attachments": {},
   "cell_type": "markdown",
   "metadata": {},
   "source": [
    "#### Обучение"
   ]
  },
  {
   "cell_type": "code",
   "execution_count": 8,
   "metadata": {},
   "outputs": [],
   "source": [
    "from sklearn.metrics import f1_score, accuracy_score, precision_score, recall_score\n",
    "\n",
    "def compute_metrics(pred):\n",
    "    labels = pred.label_ids\n",
    "    preds = pred.predictions.argmax(-1)\n",
    "    return {'Accuracy': accuracy_score(labels, preds),\n",
    "            'F1': f1_score(labels, preds, average=\"weighted\")}"
   ]
  },
  {
   "cell_type": "code",
   "execution_count": 9,
   "metadata": {},
   "outputs": [],
   "source": [
    "import os\n",
    "os.environ['WANDB_DISABLED'] = 'true'"
   ]
  },
  {
   "cell_type": "code",
   "execution_count": 10,
   "metadata": {},
   "outputs": [
    {
     "name": "stderr",
     "output_type": "stream",
     "text": [
      "Using the `WANDB_DISABLED` environment variable is deprecated and will be removed in v5. Use the --report_to flag to control the integrations used for logging result (for instance --report_to none).\n"
     ]
    }
   ],
   "source": [
    "from transformers import TrainingArguments, Trainer\n",
    "\n",
    "training_args = TrainingArguments(\n",
    "    output_dir = './the_result',\n",
    "    learning_rate=2e-5,\n",
    "    per_device_train_batch_size=8,\n",
    "    per_device_eval_batch_size=8,\n",
    "    num_train_epochs=4,\n",
    "    evaluation_strategy = 'epoch',\n",
    "    weight_decay=0.01,\n",
    "    report_to=None,\n",
    "    seed=11)\n",
    "\n",
    "\n",
    "trainer = Trainer(model=model,\n",
    "                  tokenizer = tokenizer,\n",
    "                  args = training_args,\n",
    "                  train_dataset = tokenized_datasets['train'],\n",
    "                  eval_dataset = tokenized_datasets['valid'],\n",
    "                  compute_metrics = compute_metrics)\n"
   ]
  },
  {
   "cell_type": "code",
   "execution_count": 11,
   "metadata": {},
   "outputs": [
    {
     "name": "stderr",
     "output_type": "stream",
     "text": [
      "100%|██████████| 35/35 [00:41<00:00,  1.19s/it]\n"
     ]
    },
    {
     "data": {
      "text/plain": [
       "{'eval_loss': 1.3847265243530273,\n",
       " 'eval_Accuracy': 0.15384615384615385,\n",
       " 'eval_F1': 0.10059660585976374,\n",
       " 'eval_runtime': 42.883,\n",
       " 'eval_samples_per_second': 6.366,\n",
       " 'eval_steps_per_second': 0.816}"
      ]
     },
     "execution_count": 11,
     "metadata": {},
     "output_type": "execute_result"
    }
   ],
   "source": [
    "trainer.evaluate()"
   ]
  },
  {
   "cell_type": "code",
   "execution_count": 12,
   "metadata": {},
   "outputs": [
    {
     "name": "stderr",
     "output_type": "stream",
     "text": [
      "                                                 \n",
      " 25%|██▌       | 137/548 [08:26<19:18,  2.82s/it]"
     ]
    },
    {
     "name": "stdout",
     "output_type": "stream",
     "text": [
      "{'eval_loss': 0.4436957538127899, 'eval_Accuracy': 0.9304029304029304, 'eval_F1': 0.9023743428368199, 'eval_runtime': 41.2973, 'eval_samples_per_second': 6.611, 'eval_steps_per_second': 0.848, 'epoch': 1.0}\n"
     ]
    },
    {
     "name": "stderr",
     "output_type": "stream",
     "text": [
      "                                                   \n",
      " 50%|█████     | 274/548 [16:52<13:12,  2.89s/it]"
     ]
    },
    {
     "name": "stdout",
     "output_type": "stream",
     "text": [
      "{'eval_loss': 0.2015438973903656, 'eval_Accuracy': 0.9523809523809523, 'eval_F1': 0.9418943725339141, 'eval_runtime': 41.5432, 'eval_samples_per_second': 6.571, 'eval_steps_per_second': 0.842, 'epoch': 2.0}\n"
     ]
    },
    {
     "name": "stderr",
     "output_type": "stream",
     "text": [
      "                                                   \n",
      " 75%|███████▌  | 411/548 [25:14<06:40,  2.92s/it]"
     ]
    },
    {
     "name": "stdout",
     "output_type": "stream",
     "text": [
      "{'eval_loss': 0.13325189054012299, 'eval_Accuracy': 0.9743589743589743, 'eval_F1': 0.9723465280934745, 'eval_runtime': 41.8262, 'eval_samples_per_second': 6.527, 'eval_steps_per_second': 0.837, 'epoch': 3.0}\n"
     ]
    },
    {
     "name": "stderr",
     "output_type": "stream",
     "text": [
      " 91%|█████████ | 500/548 [30:14<02:42,  3.39s/it]"
     ]
    },
    {
     "name": "stdout",
     "output_type": "stream",
     "text": [
      "{'loss': 0.3951, 'learning_rate': 1.7518248175182485e-06, 'epoch': 3.65}\n"
     ]
    },
    {
     "name": "stderr",
     "output_type": "stream",
     "text": [
      "                                                 \n",
      "100%|██████████| 548/548 [33:37<00:00,  3.68s/it]"
     ]
    },
    {
     "name": "stdout",
     "output_type": "stream",
     "text": [
      "{'eval_loss': 0.11893099546432495, 'eval_Accuracy': 0.9743589743589743, 'eval_F1': 0.9723465280934745, 'eval_runtime': 41.8347, 'eval_samples_per_second': 6.526, 'eval_steps_per_second': 0.837, 'epoch': 4.0}\n",
      "{'train_runtime': 2017.6337, 'train_samples_per_second': 2.165, 'train_steps_per_second': 0.272, 'train_loss': 0.37113360853960914, 'epoch': 4.0}\n"
     ]
    },
    {
     "name": "stderr",
     "output_type": "stream",
     "text": [
      "\n"
     ]
    },
    {
     "data": {
      "text/plain": [
       "TrainOutput(global_step=548, training_loss=0.37113360853960914, metrics={'train_runtime': 2017.6337, 'train_samples_per_second': 2.165, 'train_steps_per_second': 0.272, 'train_loss': 0.37113360853960914, 'epoch': 4.0})"
      ]
     },
     "execution_count": 12,
     "metadata": {},
     "output_type": "execute_result"
    }
   ],
   "source": [
    "trainer.train()"
   ]
  },
  {
   "attachments": {},
   "cell_type": "markdown",
   "metadata": {},
   "source": [
    "#### Проверка"
   ]
  },
  {
   "cell_type": "code",
   "execution_count": 13,
   "metadata": {},
   "outputs": [],
   "source": [
    "from transformers import pipeline\n",
    "\n",
    "pipe = pipeline(model=model, tokenizer=tokenizer, task='text-classification')"
   ]
  },
  {
   "cell_type": "code",
   "execution_count": 14,
   "metadata": {},
   "outputs": [
    {
     "name": "stdout",
     "output_type": "stream",
     "text": [
      "Универсальный Приложение Ng передаточный к постановлению Правительства Российской Федерации документ Счет-фактура N БЦ210364699 от 22.11.2021 (1) от 26 декабря 2011 года Ng 1137 Статус 3 Исправление N от 1a) в ред Постановления Правительства РФ от 02.04.2021 Ng 534) 1 счет-фактура Продавец: ОБЩЕСТВО С ОГРАНИЧЕННОЙ ОТВЕТСТВЕННОСТЬЮ <О-Си-Эс-Центр> '2) и передаточный Адрес: 108811, Москва, Московский, 22 км Киевского шоссе, 6, 1, 7 (2a) документ (акт) 2 передаточный ИННМКПП продавца: 7701341820 / 997350001 (26) документ (акт) Грузоотправитель и его адрес: Он же '3) 3 счет-фактура Грузополучатель и его адрес: К платёжно-расчётному документу Ng 5) Документ об отгрузке Ng п/п '5а) Покупатель: ПУБЛИЧНОЕ АКЦИОНЕРНОЕ ОБЩЕСТВО \"СБЕРБАНК РОССИИ\" (6) Адрес: 117312 МОСКВА Г, ВАВИЛОВА УЛ; 19 (ба) ИННКПП покупателя: 7707083893 773601001 (66) Валюта: наименование, код Российский рубль; 643 Идентификатор государственного контракта; договора (соглашения)(при наличии): '8 Информационное поле по документу: Дог 050003156543 AGR_ Договор вн. No 483 от 27.11.2019 Количественная еди- Стои- Стои- ница измерения ТО- Страна Регистрацион- Единица мость мость вара, используемая Количество товара происхождения ный номер измерения товаров Сумма товаров в целях осуществле- подлежащего про- Наименование то- товара ларации на то- Цена (работ налога (работ ния просле- слеживаемости В вара (описание ВЫ- В том вары или ре- Код Код Количе- (тариф) услуг); Налого- предъ- услуг); живаемости количественной No полненных работ числе  гистрационный товара/работ, вида услов- ство за еди- иму- вая ЯВЛЯ- имуще- единице измерения п/п оказанных услуг); сумма номер партии услуг товара ное (объём) ницу из- щест- ставка емая по- ствен- товара, используе- имущественного акциза товара, подле- услов- обозна- мерения венных купате- Краткое мой в целях осу- права Цифро- жащего ное обо- код чение прав без лю прав С наиме- код ществления налога налогом вой код просле- значе- прослеживаемости (нацио- нование живаемости ние наль- всего всего ное) Б 1a 16 2 2a 3 5 6 8 10 10a 11 12 12a 13 Номер документа: БЦ210364699 1 / 3 дек-\n",
      "Метка: upd\n",
      "Предсказание модели: [{'label': 'upd', 'score': 0.9480438828468323}]\n",
      "\n",
      "\n",
      "460048, г. Оренбург, пр  Победы 164 тел. /факс (3532) 99-53-63 e-mall: Info@orenkar .ru Оплата данного счета означает согласие с условиями поставки товара Уведомление об оплате обязательно, в противном случае не гарантируется наличие товара на складе. Товар отпускается по факту прихода денег на plc Поставщика; самовывозом; при наличии доверенности и паспорта: Образец заполнения платежного поручения ОРЕНБУРГСКОЕ ОТДЕЛЕНИЕ N8623 ПАО СБЕРБАНК Г БИК 045354601 Оренбург 30101810600000000601 Банк получателя ИНН 5609075530 КПП 560901001 40702810746000002378 ООО \"Орен-Карт\" Вид оп. 01 Наз  пл. [Очер; плат. 5 [3к21120Т00 [0028790001 [Получатепь Оплата по заказу клиента Ng2879 [Назначение платежа Счет на оплату Ng 2879/1 от 24 декабря 2021 г Поставщик: тел : +7 (3532) 99-53-63 Покупатель: Цена без Сумма без Ng Код Товары (работы; услуги) Кол-во НДС Сумма НДС НДС 100 Пластиковые карты Сервисная 60 466,40 293,28 759,68 карта Итого: 1 466,40 НДС (20%): 293,28 1 759,68 Всего наименований 2, на сумму 759,68 EUR Одна тысяча семьсот пятьдесят девять евро 68 центов Спецификация на поставку продукции Ng 226/1-21 от \"30\" ноября 2021 г. Цена по Спецификации (без НДС) 24,44 Б3 52398 Руководитель Коновал А. Я: расшифровка ПОдПИСИ Бухгалтер расшифровка ПОдПИСИ V DREN-KART [Код {509075530 ДЛЯ ) Оренбург ОГРН\n",
      "Метка: schet\n",
      "Предсказание модели: [{'label': 'schet', 'score': 0.9327020049095154}]\n",
      "\n",
      "\n",
      "Приложение Na постановлению Правительства Российскай Федерации от 26 дскабря 2011 r Na 1137 Счет-фактура Ng 460 от 20 января 2022 г (1) (в редакции постановления Правительства Российской Федерации от 2 апреля 2021 r Na 534) Исправление Ng От (1a) Продавец: Акционерное Общество НоваКард (2) Покупатель: ПАО \"Сбербанк России\" (6) Адрес: 603024, Нижегородская обл; Нижний Новгород г Невзоровых ул дом Ng 49, помещение 9 (2a) Адрес: 717312, Москва г, Вавилова ул; дом Ng 19 (ба) ИННМКПП продавца: 5262045537/526201001 (26) ИННМКПП покупателя: 7707083893/773601001 (66) Грузоотправитель и eго адрес: ОН же (3) Валюта: наименование; код Российский рубль, 643 Юго-Западный Банк Сбербанка России ПАО,344068, Ростовская обл; Ростов-на-Дону г Грузополучатель и его адрес: Евдокимова ул, дом Ng 37 (4) Идентификатор государственного контракта; К платежно-расчетному документу No От (5) договора (соглашения) (при наличии): (8) Документ об отгрузке Ng п/п Ne461 от 20.01.2022 г (5а) Единица Стоимость Стоимость товаров Страна Регистрационный номер измерения Коли- Цена (тариф) товаров (работ, В том Сумма налога; (работ, услуг); происхождения товара декларации на товары или Ng [Наименование товара (описание выполненных Код вида услуг); числе Налоговая предъявляемая имущественных регистрационный номер партии п/п работ, оказанных услуг), имущественного товара условное чество за единицу имущественных сумма ставка покупателю прав c наЛОгом товара, подлежащего права (объем) измерения прав без налога акциза [цифровой краткое прослеживаемости КОД обозначение всего КОД наименование (национальное) всего 2a 5 8 9 10 1Оa 1a 16 2 карта World MasterCard Black [796 [тыс штук 5,000 68 053,42 340 267,10 /без акциза/20% 68 053,42 408 320,52 Пластиковая Edition PayPass c дуальным микропроцессором c магнитной полосой согласно стандартам ISO. Доп.опции: тактильный эффект (рельефный ламинат) [Лицевая сторона: White 4 офсетных цвета [(CMYК) Fine Silver UV-Blue голограмма MasterCard Premium Brand Mark New Shape Оборотная сторона: White 4 офсетных цвета [(СMYК) (гологамма панель для подписи магнитная полоса HiCo 340 267,10 X 68 053,42 408 320,52 Всего к оплате (9) Руководитель организации Главный бухгалтер или иное уполномоченное лицо Юшакова C.B или иное уполномоченное лицо Фролова H.B: {подпись) (фм о.) (подпись Индивидуальный предприниматель или иное уполномоченное лицо (Фи о ) (реквизиты свидетельства государственной (подпись) регистрации индивидуального предпринимателя)\n",
      "Метка: sf\n",
      "Предсказание модели: [{'label': 'sf', 'score': 0.9258632659912109}]\n",
      "\n",
      "\n",
      "88 ННК Акшноперное обшестло ~ННК-Кчатпефтепродуктю ул Коскопштоц L ] тел: +7(4151) 4]-54 0 факс: +7(4l53) 4l-Ю0-Я I-aul: kup ccretn @ipc oiln Образоц заполнения платежного поручония ИНН 4101026789 КПП 546050001 ППопучатель АO кННК-Камчатнефтепродуктъ Сч Ne 40702810815020О00006 Банк полуЧателя БИК 040813727 ФИЛИАЛ БАНКА ВТБ (ПАО) B Г: ХАБАРОВСКЕ Сч Ng 30101810400000000727 Cчеm Ng1ПК-0ОО0099 om 19.01.2022 Плательщик: ДАЛЬНЕВОСТОЧНЫЙ БАНК Пубпичного Акционерного Общества \"СБЕРБАНК'; ИНН 7707083893 КПП 272143001, АК Сберегатепьный банк РФ (ОAО): 117997, Г Москва; ул Вавилова; 19 Грузополучатель: ДАЛЬНЕВОСТОЧНЫЙ БАНК Публичного Акционерного Общества \"СБЕРБАНК\"', ИНН 7707083893, КПП 272143001 Камчатское отдепение N28556 СБ РФ: 683001, Г Петропавловск-Камчатский , ул. Набережная; д.30 Koмменmapuu: Пополненuе пласmuковых кapm по Ооеовору   No50003998504 om 17.12.2021 Наименование Единица Коли- Ng изме- Цена Сумма товара Чество рения Аванс по договору за нефтепродукты с использованием пластиковых карт руб 250 000.0О Итого: 208 333.33 Итого НДС: 41 666.67 Bcero к оплато: 250 000.00 Всего наименований 1 на сумму 250 000,00 RUB Двости пятьдесят тысяч рублей 00 копеек Нач. управления ОПТ реализации Н/продуктов (по дов No 104/2022 от 28.12.2021r ) Решетов AA Бухгалтер (по дов: N? 95/2022 от 27.12.2021г.) для Лепиныч И К ДОКУПЕНТов Амч4 Атне ( @ 5 HаJа КАТЕГОРИШ Д ^\n",
      "Метка: schet\n",
      "Предсказание модели: [{'label': 'schet', 'score': 0.9274334907531738}]\n",
      "\n",
      "\n",
      "7 наличие товара на складо. Товар отпускается по факту прихода денег на plc Поставщика; самовывозом, при наличии доверенности и паспорта: Образец заполнения платежного поручения ОРЕНБУРГСКОЕ ОТДЕЛЕНИЕ N8623 ПАО СБЕРБАНК г БИК 045354601 Оренбург Сч. Ng '30101810600000000601 Банк получатепя ИНН КПП 560901001 Сч Ng 40702810746000002378 ООО \"Орен-Карт [Вид оп; 01 Срок плат. Рез. попе Попучатель Оплата по заказу клиента Ng2512 Назначение платежа Счет на оплату Ng 2512/16 от 29 ноября 2021 Г: Поставщик: Покупатель: ПАО СБЕРБАНК; ИНН 7707083893, КПП 773601001, 117312, Москва &, Вавилова ул; дом 19 Цена без Сумма без Ng Код Товары (работы; услуги) Кол-во Ед: НДС НДС НДС Сумма Пластиковая карта Mastercard 100 чипом Goldpac Goldpay А7 v 3,0 470,96 4 568,31 913,66 5 481,97 эмуляция Mifare 1K (оригинал-макет Ng 020518/1) Итого: 4 568,31 НДС (20%): 913,66 Итого c НДС; 5 481,97 Всего наименований 2, на сумму 5 481,97 EUR Пять тысяч четыреста восемьдесят один евро 97 центов Спецификация на поставку продукции Ng 716/1-21 от \"1\" ноября 2021 г К Соглашению Ng  3322346 от 08,06.2020/ Цена по Спецификации (без НДС) - 470,96 Б3 52064 Руководитель Коновал A. Я расшифровка ПОДПИСИ 0 ИЕНТОВ Бухгалтер Коновал А. Я расшифровка ПОдПИСИ iV КЙСЕЛЁВ [Код 8 ЦЭЕТ\n",
      "Метка: schet\n",
      "Предсказание модели: [{'label': 'schet', 'score': 0.932553231716156}]\n",
      "\n",
      "\n"
     ]
    }
   ],
   "source": [
    "from random import randint\n",
    "\n",
    "start = len(tokenized_datasets['valid']) - 5\n",
    "\n",
    "for i in range(5):\n",
    "    txt = tokenized_datasets['valid']['text'][start + i]\n",
    "    lb = tokenized_datasets['valid']['labels'][start + i]\n",
    "\n",
    "    print(txt)\n",
    "    print(f'Метка: {labels_list[lb]}')\n",
    "    print(f'Предсказание модели: {pipe(txt)}\\n\\n')"
   ]
  },
  {
   "cell_type": "code",
   "execution_count": null,
   "metadata": {},
   "outputs": [],
   "source": []
  }
 ],
 "metadata": {
  "kernelspec": {
   "display_name": "Python 3",
   "language": "python",
   "name": "python3"
  },
  "language_info": {
   "codemirror_mode": {
    "name": "ipython",
    "version": 3
   },
   "file_extension": ".py",
   "mimetype": "text/x-python",
   "name": "python",
   "nbconvert_exporter": "python",
   "pygments_lexer": "ipython3",
   "version": "3.10.2"
  },
  "orig_nbformat": 4
 },
 "nbformat": 4,
 "nbformat_minor": 2
}
